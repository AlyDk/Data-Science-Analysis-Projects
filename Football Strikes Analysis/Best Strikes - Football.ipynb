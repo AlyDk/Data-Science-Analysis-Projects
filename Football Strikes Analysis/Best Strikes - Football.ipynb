{
 "cells": [
  {
   "cell_type": "markdown",
   "id": "ffa35640-fd4d-4ba0-9976-f0a1498c3040",
   "metadata": {},
   "source": [
    "# Best Strikes "
   ]
  },
  {
   "cell_type": "code",
   "execution_count": 35,
   "id": "ed5962bf-89e7-453e-ba36-5552b3b81a5e",
   "metadata": {},
   "outputs": [
    {
     "name": "stdout",
     "output_type": "stream",
     "text": [
      "Requirement already satisfied: pandas in c:\\users\\abc\\appdata\\local\\programs\\python\\python312\\lib\\site-packages (2.2.2)\n",
      "Requirement already satisfied: numpy>=1.26.0 in c:\\users\\abc\\appdata\\local\\programs\\python\\python312\\lib\\site-packages (from pandas) (2.1.0)\n",
      "Requirement already satisfied: python-dateutil>=2.8.2 in c:\\users\\abc\\appdata\\local\\programs\\python\\python312\\lib\\site-packages (from pandas) (2.9.0.post0)\n",
      "Requirement already satisfied: pytz>=2020.1 in c:\\users\\abc\\appdata\\local\\programs\\python\\python312\\lib\\site-packages (from pandas) (2024.1)\n",
      "Requirement already satisfied: tzdata>=2022.7 in c:\\users\\abc\\appdata\\local\\programs\\python\\python312\\lib\\site-packages (from pandas) (2024.1)\n",
      "Requirement already satisfied: six>=1.5 in c:\\users\\abc\\appdata\\local\\programs\\python\\python312\\lib\\site-packages (from python-dateutil>=2.8.2->pandas) (1.16.0)\n"
     ]
    }
   ],
   "source": [
    "# Install the pandas library for data manipulation and analysis\n",
    "# Pandas provides powerful data structures like DataFrames for handling structured data.\n",
    "!pip install pandas"
   ]
  },
  {
   "cell_type": "code",
   "execution_count": 36,
   "id": "24816a46-b740-47c2-ab4f-e3829a135b28",
   "metadata": {},
   "outputs": [
    {
     "name": "stdout",
     "output_type": "stream",
     "text": [
      "Requirement already satisfied: numpy in c:\\users\\abc\\appdata\\local\\programs\\python\\python312\\lib\\site-packages (2.1.0)\n"
     ]
    }
   ],
   "source": [
    "# Install the NumPy library for numerical operations and array handling\n",
    "# NumPy provides support for large, multi-dimensional arrays and matrices,\n",
    "# along with a collection of mathematical functions to operate on these arrays.\n",
    "!pip install numpy"
   ]
  },
  {
   "cell_type": "code",
   "execution_count": 37,
   "id": "14c1c091-d13e-49da-abc0-ecb44a704afc",
   "metadata": {},
   "outputs": [
    {
     "name": "stdout",
     "output_type": "stream",
     "text": [
      "Requirement already satisfied: scipy in c:\\users\\abc\\appdata\\local\\programs\\python\\python312\\lib\\site-packages (1.14.1)\n",
      "Requirement already satisfied: numpy<2.3,>=1.23.5 in c:\\users\\abc\\appdata\\local\\programs\\python\\python312\\lib\\site-packages (from scipy) (2.1.0)\n"
     ]
    }
   ],
   "source": [
    "# Install the SciPy library for scientific and technical computing\n",
    "# SciPy builds on NumPy and provides additional functionality for optimization,\n",
    "# integration, interpolation, eigenvalue problems, and other advanced mathematical functions.\n",
    "!pip install scipy"
   ]
  },
  {
   "cell_type": "code",
   "execution_count": 38,
   "id": "7001bba4-2e40-4e4c-8db3-2e887bd18484",
   "metadata": {},
   "outputs": [
    {
     "name": "stdout",
     "output_type": "stream",
     "text": [
      "Requirement already satisfied: openpyxl in c:\\users\\abc\\appdata\\local\\programs\\python\\python312\\lib\\site-packages (3.1.5)\n",
      "Requirement already satisfied: et-xmlfile in c:\\users\\abc\\appdata\\local\\programs\\python\\python312\\lib\\site-packages (from openpyxl) (1.1.0)\n"
     ]
    }
   ],
   "source": [
    "# Install the openpyxl library for reading and writing Excel files\n",
    "# openpyxl allows you to work with Excel 2010 xlsx/xlsm/xltx/xltm files,\n",
    "# enabling you to create, modify, and extract data from Excel spreadsheets.\n",
    "!pip install openpyxl"
   ]
  },
  {
   "cell_type": "code",
   "execution_count": 39,
   "id": "6cdc4a51-b1e2-4ba8-bba2-4fc3220fa848",
   "metadata": {},
   "outputs": [
    {
     "name": "stdout",
     "output_type": "stream",
     "text": [
      "Requirement already satisfied: scikit-learn in c:\\users\\abc\\appdata\\local\\programs\\python\\python312\\lib\\site-packages (1.5.1)\n",
      "Requirement already satisfied: numpy>=1.19.5 in c:\\users\\abc\\appdata\\local\\programs\\python\\python312\\lib\\site-packages (from scikit-learn) (2.1.0)\n",
      "Requirement already satisfied: scipy>=1.6.0 in c:\\users\\abc\\appdata\\local\\programs\\python\\python312\\lib\\site-packages (from scikit-learn) (1.14.1)\n",
      "Requirement already satisfied: joblib>=1.2.0 in c:\\users\\abc\\appdata\\local\\programs\\python\\python312\\lib\\site-packages (from scikit-learn) (1.4.2)\n",
      "Requirement already satisfied: threadpoolctl>=3.1.0 in c:\\users\\abc\\appdata\\local\\programs\\python\\python312\\lib\\site-packages (from scikit-learn) (3.5.0)\n"
     ]
    }
   ],
   "source": [
    "# Install the scikit-learn library for machine learning in Python\n",
    "# scikit-learn provides simple and efficient tools for data mining and data analysis,\n",
    "# including classification, regression, clustering, and dimensionality reduction algorithms.\n",
    "!pip install scikit-learn"
   ]
  },
  {
   "cell_type": "code",
   "execution_count": 40,
   "id": "a15d9294-e122-48d4-bbb3-fe9e776d9508",
   "metadata": {},
   "outputs": [
    {
     "name": "stdout",
     "output_type": "stream",
     "text": [
      "Requirement already satisfied: matplotlib in c:\\users\\abc\\appdata\\local\\programs\\python\\python312\\lib\\site-packages (3.9.2)\n",
      "Requirement already satisfied: scikit-learn in c:\\users\\abc\\appdata\\local\\programs\\python\\python312\\lib\\site-packages (1.5.1)\n",
      "Requirement already satisfied: contourpy>=1.0.1 in c:\\users\\abc\\appdata\\local\\programs\\python\\python312\\lib\\site-packages (from matplotlib) (1.2.1)\n",
      "Requirement already satisfied: cycler>=0.10 in c:\\users\\abc\\appdata\\local\\programs\\python\\python312\\lib\\site-packages (from matplotlib) (0.12.1)\n",
      "Requirement already satisfied: fonttools>=4.22.0 in c:\\users\\abc\\appdata\\local\\programs\\python\\python312\\lib\\site-packages (from matplotlib) (4.53.1)\n",
      "Requirement already satisfied: kiwisolver>=1.3.1 in c:\\users\\abc\\appdata\\local\\programs\\python\\python312\\lib\\site-packages (from matplotlib) (1.4.5)\n",
      "Requirement already satisfied: numpy>=1.23 in c:\\users\\abc\\appdata\\local\\programs\\python\\python312\\lib\\site-packages (from matplotlib) (2.1.0)\n",
      "Requirement already satisfied: packaging>=20.0 in c:\\users\\abc\\appdata\\local\\programs\\python\\python312\\lib\\site-packages (from matplotlib) (24.1)\n",
      "Requirement already satisfied: pillow>=8 in c:\\users\\abc\\appdata\\local\\programs\\python\\python312\\lib\\site-packages (from matplotlib) (10.4.0)\n",
      "Requirement already satisfied: pyparsing>=2.3.1 in c:\\users\\abc\\appdata\\local\\programs\\python\\python312\\lib\\site-packages (from matplotlib) (3.1.2)\n",
      "Requirement already satisfied: python-dateutil>=2.7 in c:\\users\\abc\\appdata\\local\\programs\\python\\python312\\lib\\site-packages (from matplotlib) (2.9.0.post0)\n",
      "Requirement already satisfied: scipy>=1.6.0 in c:\\users\\abc\\appdata\\local\\programs\\python\\python312\\lib\\site-packages (from scikit-learn) (1.14.1)\n",
      "Requirement already satisfied: joblib>=1.2.0 in c:\\users\\abc\\appdata\\local\\programs\\python\\python312\\lib\\site-packages (from scikit-learn) (1.4.2)\n",
      "Requirement already satisfied: threadpoolctl>=3.1.0 in c:\\users\\abc\\appdata\\local\\programs\\python\\python312\\lib\\site-packages (from scikit-learn) (3.5.0)\n",
      "Requirement already satisfied: six>=1.5 in c:\\users\\abc\\appdata\\local\\programs\\python\\python312\\lib\\site-packages (from python-dateutil>=2.7->matplotlib) (1.16.0)\n"
     ]
    }
   ],
   "source": [
    "# Install the matplotlib and scikit-learn libraries for data visualization and machine learning\n",
    "# matplotlib is a plotting library for creating static, animated, and interactive visualizations,\n",
    "# while scikit-learn provides tools for data mining and machine learning, including classification,\n",
    "# regression, clustering, and dimensionality reduction algorithms.\n",
    "!pip install matplotlib scikit-learn"
   ]
  },
  {
   "cell_type": "code",
   "execution_count": 41,
   "id": "2fd6d2a5-6dd2-483f-9b43-6d29f86e8969",
   "metadata": {},
   "outputs": [],
   "source": [
    "# Importing Essential Libraries for Data Manipulation, Visualization, and Machine Learning\n",
    "# This section includes libraries and modules necessary for:\n",
    "# - Data manipulation and analysis with pandas\n",
    "# - Numerical operations and array handling with NumPy\n",
    "# - Data visualization with Matplotlib and Seaborn\n",
    "# - Machine learning tasks using scikit-learn, including preprocessing, model training, \n",
    "#   evaluation, and clustering\n",
    "# - Statistical analysis with SciPy, including various statistical tests and transformations\n",
    "\n",
    "import pandas as pd  # For data manipulation and analysis\n",
    "import numpy as np   # For numerical operations and array handling\n",
    "import matplotlib.pyplot as plt  # For creating static, animated, and interactive visualizations\n",
    "import seaborn as sns  # For statistical data visualization based on Matplotlib\n",
    "\n",
    "# Consolidated Imports for Machine Learning and Statistical Analysis\n",
    "from sklearn.impute import SimpleImputer\n",
    "from sklearn.preprocessing import LabelEncoder, StandardScaler, MinMaxScaler, OneHotEncoder\n",
    "from sklearn.decomposition import PCA\n",
    "from sklearn.model_selection import train_test_split\n",
    "from sklearn.linear_model import LinearRegression, LogisticRegression\n",
    "from sklearn.tree import DecisionTreeRegressor, DecisionTreeClassifier\n",
    "from sklearn.ensemble import RandomForestRegressor, RandomForestClassifier\n",
    "from sklearn.metrics import mean_squared_error, accuracy_score, confusion_matrix, ConfusionMatrixDisplay\n",
    "from sklearn.cluster import KMeans\n",
    "from scipy import stats\n",
    "from scipy.stats import shapiro, boxcox, yeojohnson, chi2_contingency, pearsonr\n",
    "from sklearn.compose import ColumnTransformer\n",
    "from sklearn.pipeline import Pipeline"
   ]
  },
  {
   "cell_type": "code",
   "execution_count": 42,
   "id": "57a99586-57d6-4849-955b-31dcd4eeee0e",
   "metadata": {},
   "outputs": [
    {
     "data": {
      "text/html": [
       "<div>\n",
       "<style scoped>\n",
       "    .dataframe tbody tr th:only-of-type {\n",
       "        vertical-align: middle;\n",
       "    }\n",
       "\n",
       "    .dataframe tbody tr th {\n",
       "        vertical-align: top;\n",
       "    }\n",
       "\n",
       "    .dataframe thead th {\n",
       "        text-align: right;\n",
       "    }\n",
       "</style>\n",
       "<table border=\"1\" class=\"dataframe\">\n",
       "  <thead>\n",
       "    <tr style=\"text-align: right;\">\n",
       "      <th></th>\n",
       "      <th>Striker_ID</th>\n",
       "      <th>Nationality</th>\n",
       "      <th>Footedness</th>\n",
       "      <th>Marital Status</th>\n",
       "      <th>Goals Scored</th>\n",
       "      <th>Assists</th>\n",
       "      <th>Shots on Target</th>\n",
       "      <th>Shot Accuracy</th>\n",
       "      <th>Conversion Rate</th>\n",
       "      <th>Dribbling Success</th>\n",
       "      <th>Movement off the Ball</th>\n",
       "      <th>Hold-up Play</th>\n",
       "      <th>Aerial Duels Won</th>\n",
       "      <th>Defensive Contribution</th>\n",
       "      <th>Big Game Performance</th>\n",
       "      <th>Consistency</th>\n",
       "      <th>Penalty Success Rate</th>\n",
       "      <th>Impact on Team Performance</th>\n",
       "      <th>Off-field Conduct</th>\n",
       "    </tr>\n",
       "  </thead>\n",
       "  <tbody>\n",
       "    <tr>\n",
       "      <th>0</th>\n",
       "      <td>1</td>\n",
       "      <td>Spain</td>\n",
       "      <td>Left-footed</td>\n",
       "      <td>No</td>\n",
       "      <td>17.483571</td>\n",
       "      <td>10.778533</td>\n",
       "      <td>34.795488</td>\n",
       "      <td>0.677836</td>\n",
       "      <td>0.166241</td>\n",
       "      <td>0.757061</td>\n",
       "      <td>50.921924</td>\n",
       "      <td>71.806409</td>\n",
       "      <td>15.682532</td>\n",
       "      <td>30.412215</td>\n",
       "      <td>6.152481</td>\n",
       "      <td>0.820314</td>\n",
       "      <td>0.922727</td>\n",
       "      <td>8.570370</td>\n",
       "      <td>11.451388</td>\n",
       "    </tr>\n",
       "    <tr>\n",
       "      <th>1</th>\n",
       "      <td>2</td>\n",
       "      <td>France</td>\n",
       "      <td>Left-footed</td>\n",
       "      <td>Yes</td>\n",
       "      <td>14.308678</td>\n",
       "      <td>13.728250</td>\n",
       "      <td>31.472436</td>\n",
       "      <td>0.544881</td>\n",
       "      <td>0.192774</td>\n",
       "      <td>0.796818</td>\n",
       "      <td>61.396150</td>\n",
       "      <td>53.726866</td>\n",
       "      <td>19.843983</td>\n",
       "      <td>26.474913</td>\n",
       "      <td>6.093172</td>\n",
       "      <td>0.803321</td>\n",
       "      <td>0.678984</td>\n",
       "      <td>3.444638</td>\n",
       "      <td>8.243689</td>\n",
       "    </tr>\n",
       "    <tr>\n",
       "      <th>2</th>\n",
       "      <td>3</td>\n",
       "      <td>Germany</td>\n",
       "      <td>Left-footed</td>\n",
       "      <td>No</td>\n",
       "      <td>18.238443</td>\n",
       "      <td>3.804297</td>\n",
       "      <td>25.417413</td>\n",
       "      <td>0.518180</td>\n",
       "      <td>0.160379</td>\n",
       "      <td>0.666869</td>\n",
       "      <td>65.863945</td>\n",
       "      <td>60.452227</td>\n",
       "      <td>20.090084</td>\n",
       "      <td>24.164116</td>\n",
       "      <td>3.408714</td>\n",
       "      <td>0.766540</td>\n",
       "      <td>0.843858</td>\n",
       "      <td>8.429491</td>\n",
       "      <td>9.506835</td>\n",
       "    </tr>\n",
       "    <tr>\n",
       "      <th>3</th>\n",
       "      <td>4</td>\n",
       "      <td>France</td>\n",
       "      <td>Right-footed</td>\n",
       "      <td>No</td>\n",
       "      <td>22.615149</td>\n",
       "      <td>9.688908</td>\n",
       "      <td>20.471443</td>\n",
       "      <td>0.599663</td>\n",
       "      <td>0.184602</td>\n",
       "      <td>0.638776</td>\n",
       "      <td>88.876877</td>\n",
       "      <td>60.511979</td>\n",
       "      <td>22.363152</td>\n",
       "      <td>44.129989</td>\n",
       "      <td>6.339820</td>\n",
       "      <td>0.611798</td>\n",
       "      <td>0.662997</td>\n",
       "      <td>6.532552</td>\n",
       "      <td>8.199653</td>\n",
       "    </tr>\n",
       "    <tr>\n",
       "      <th>4</th>\n",
       "      <td>5</td>\n",
       "      <td>France</td>\n",
       "      <td>Left-footed</td>\n",
       "      <td>Yes</td>\n",
       "      <td>13.829233</td>\n",
       "      <td>6.048072</td>\n",
       "      <td>29.887563</td>\n",
       "      <td>0.582982</td>\n",
       "      <td>0.105319</td>\n",
       "      <td>0.591485</td>\n",
       "      <td>75.565531</td>\n",
       "      <td>54.982158</td>\n",
       "      <td>13.165708</td>\n",
       "      <td>37.859323</td>\n",
       "      <td>8.465658</td>\n",
       "      <td>0.701638</td>\n",
       "      <td>0.906538</td>\n",
       "      <td>8.414915</td>\n",
       "      <td>6.665333</td>\n",
       "    </tr>\n",
       "  </tbody>\n",
       "</table>\n",
       "</div>"
      ],
      "text/plain": [
       "   Striker_ID Nationality    Footedness Marital Status  Goals Scored  \\\n",
       "0           1       Spain   Left-footed             No     17.483571   \n",
       "1           2      France   Left-footed            Yes     14.308678   \n",
       "2           3     Germany   Left-footed             No     18.238443   \n",
       "3           4      France  Right-footed             No     22.615149   \n",
       "4           5      France   Left-footed            Yes     13.829233   \n",
       "\n",
       "     Assists  Shots on Target  Shot Accuracy  Conversion Rate  \\\n",
       "0  10.778533        34.795488       0.677836         0.166241   \n",
       "1  13.728250        31.472436       0.544881         0.192774   \n",
       "2   3.804297        25.417413       0.518180         0.160379   \n",
       "3   9.688908        20.471443       0.599663         0.184602   \n",
       "4   6.048072        29.887563       0.582982         0.105319   \n",
       "\n",
       "   Dribbling Success  Movement off the Ball  Hold-up Play  Aerial Duels Won  \\\n",
       "0           0.757061              50.921924     71.806409         15.682532   \n",
       "1           0.796818              61.396150     53.726866         19.843983   \n",
       "2           0.666869              65.863945     60.452227         20.090084   \n",
       "3           0.638776              88.876877     60.511979         22.363152   \n",
       "4           0.591485              75.565531     54.982158         13.165708   \n",
       "\n",
       "   Defensive Contribution  Big Game Performance  Consistency  \\\n",
       "0               30.412215              6.152481     0.820314   \n",
       "1               26.474913              6.093172     0.803321   \n",
       "2               24.164116              3.408714     0.766540   \n",
       "3               44.129989              6.339820     0.611798   \n",
       "4               37.859323              8.465658     0.701638   \n",
       "\n",
       "   Penalty Success Rate  Impact on Team Performance  Off-field Conduct  \n",
       "0              0.922727                    8.570370          11.451388  \n",
       "1              0.678984                    3.444638           8.243689  \n",
       "2              0.843858                    8.429491           9.506835  \n",
       "3              0.662997                    6.532552           8.199653  \n",
       "4              0.906538                    8.414915           6.665333  "
      ]
     },
     "execution_count": 42,
     "metadata": {},
     "output_type": "execute_result"
    }
   ],
   "source": [
    "# Load the dataset from an Excel file into a pandas DataFrame\n",
    "# This code reads the 'Strikers_performance.xlsx' file and displays the first few rows\n",
    "# of the dataset to provide an overview of the data structure and contents.\n",
    "data = pd.read_excel('Strikers_performance.xlsx')\n",
    "data.head()"
   ]
  },
  {
   "cell_type": "markdown",
   "id": "9a09cd42-cdbc-4f45-9203-222c353369c9",
   "metadata": {},
   "source": [
    "## Data Cleaning:"
   ]
  },
  {
   "cell_type": "code",
   "execution_count": 43,
   "id": "9d17ded5-887d-431f-a58f-1fdc3e193f5b",
   "metadata": {},
   "outputs": [
    {
     "name": "stdout",
     "output_type": "stream",
     "text": [
      "Missing values in each column:\n",
      " Movement off the Ball    6\n",
      "Big Game Performance     2\n",
      "Penalty Success Rate     5\n",
      "dtype: int64\n",
      "\n",
      "Data types before conversion:\n",
      " Striker_ID                    float64\n",
      "Nationality                    object\n",
      "Footedness                     object\n",
      "Marital Status                 object\n",
      "Goals Scored                  float64\n",
      "Assists                       float64\n",
      "Shots on Target               float64\n",
      "Shot Accuracy                 float64\n",
      "Conversion Rate               float64\n",
      "Dribbling Success             float64\n",
      "Movement off the Ball         float64\n",
      "Hold-up Play                  float64\n",
      "Aerial Duels Won              float64\n",
      "Defensive Contribution        float64\n",
      "Big Game Performance          float64\n",
      "Consistency                   float64\n",
      "Penalty Success Rate          float64\n",
      "Impact on Team Performance    float64\n",
      "Off-field Conduct             float64\n",
      "dtype: object\n",
      "\n",
      "Data types after conversion:\n",
      " Striker_ID                    float64\n",
      "Nationality                    object\n",
      "Footedness                     object\n",
      "Marital Status                 object\n",
      "Goals Scored                    int64\n",
      "Assists                         int64\n",
      "Shots on Target                 int64\n",
      "Shot Accuracy                 float64\n",
      "Conversion Rate               float64\n",
      "Dribbling Success             float64\n",
      "Movement off the Ball           int64\n",
      "Hold-up Play                    int64\n",
      "Aerial Duels Won                int64\n",
      "Defensive Contribution          int64\n",
      "Big Game Performance            int64\n",
      "Consistency                   float64\n",
      "Penalty Success Rate          float64\n",
      "Impact on Team Performance      int64\n",
      "Off-field Conduct               int64\n",
      "dtype: object\n",
      "\n",
      "Remaining missing values in each column:\n",
      " Series([], dtype: int64)\n"
     ]
    }
   ],
   "source": [
    "# Step 1: Check for missing values\n",
    "missing_values = data.isnull().sum()\n",
    "print(\"Missing values in each column:\\n\", missing_values[missing_values > 0])\n",
    "\n",
    "# Step 2: Impute missing values\n",
    "# Identify numeric and categorical columns\n",
    "numeric_cols = data.select_dtypes(include=['int64', 'float64']).columns\n",
    "categorical_cols = data.select_dtypes(include=['object']).columns\n",
    "\n",
    "# Create imputers\n",
    "numeric_imputer = SimpleImputer(strategy='median')\n",
    "categorical_imputer = SimpleImputer(strategy='most_frequent')\n",
    "\n",
    "# Impute numeric columns\n",
    "data[numeric_cols] = numeric_imputer.fit_transform(data[numeric_cols])\n",
    "\n",
    "# Impute categorical columns\n",
    "data[categorical_cols] = categorical_imputer.fit_transform(data[categorical_cols])\n",
    "\n",
    "# Step 3: Check and assign data types\n",
    "# Display current data types\n",
    "print(\"\\nData types before conversion:\\n\", data.dtypes)\n",
    "\n",
    "# Convert specified columns to integer data types\n",
    "int_columns = [\n",
    "    'Goals Scored', 'Assists', 'Shots on Target', \n",
    "    'Movement off the Ball', 'Hold-up Play', \n",
    "    'Aerial Duels Won', 'Defensive Contribution', \n",
    "    'Big Game Performance', 'Impact on Team Performance', \n",
    "    'Off-field Conduct'\n",
    "]\n",
    "\n",
    "# Convert to integer\n",
    "data[int_columns] = data[int_columns].astype(int)\n",
    "\n",
    "# Display data types after conversion\n",
    "print(\"\\nData types after conversion:\\n\", data.dtypes)\n",
    "\n",
    "# Optionally, check for any remaining missing values\n",
    "remaining_missing = data.isnull().sum()\n",
    "print(\"\\nRemaining missing values in each column:\\n\", remaining_missing[remaining_missing > 0])"
   ]
  },
  {
   "cell_type": "markdown",
   "id": "287a962c-071b-43a7-b583-391865b234ac",
   "metadata": {},
   "source": [
    "## Descriptive Analysis"
   ]
  },
  {
   "cell_type": "code",
   "execution_count": 44,
   "id": "aa3030da-8ee2-4539-a554-ed64daa136da",
   "metadata": {},
   "outputs": [
    {
     "name": "stdout",
     "output_type": "stream",
     "text": [
      "Descriptive Statistics:\n",
      "        Striker_ID  Goals Scored  Assists  Shots on Target  Shot Accuracy  \\\n",
      "count      500.00        500.00   500.00           500.00         500.00   \n",
      "mean       250.50         14.52     7.60            25.26           0.60   \n",
      "std        144.48          4.91     2.96             7.08           0.10   \n",
      "min          1.00          0.00     0.00             4.00           0.31   \n",
      "25%        125.75         11.00     6.00            20.00           0.54   \n",
      "50%        250.50         15.00     8.00            25.00           0.60   \n",
      "75%        375.25         18.00     9.00            30.00           0.67   \n",
      "max        500.00         34.00    15.00            43.00           0.92   \n",
      "\n",
      "       Conversion Rate  Dribbling Success  Movement off the Ball  \\\n",
      "count           500.00             500.00                 500.00   \n",
      "mean              0.20               0.70                  69.28   \n",
      "std               0.05               0.10                  10.33   \n",
      "min               0.05               0.40                  40.00   \n",
      "25%               0.17               0.64                  62.00   \n",
      "50%               0.20               0.70                  69.00   \n",
      "75%               0.23               0.76                  76.00   \n",
      "max               0.36               1.00                  98.00   \n",
      "\n",
      "       Hold-up Play  Aerial Duels Won  Defensive Contribution  \\\n",
      "count        500.00            500.00                  500.00   \n",
      "mean          59.33             19.04                   39.47   \n",
      "std           10.15              4.95                    9.90   \n",
      "min           35.00              4.00                    8.00   \n",
      "25%           52.00             16.00                   33.00   \n",
      "50%           60.00             19.00                   39.50   \n",
      "75%           66.00             22.00                   46.00   \n",
      "max           92.00             34.00                   71.00   \n",
      "\n",
      "       Big Game Performance  Consistency  Penalty Success Rate  \\\n",
      "count                500.00       500.00                500.00   \n",
      "mean                   6.43         0.74                  0.80   \n",
      "std                    1.98         0.10                  0.10   \n",
      "min                    2.00         0.46                  0.53   \n",
      "25%                    5.00         0.68                  0.72   \n",
      "50%                    6.00         0.75                  0.80   \n",
      "75%                    8.00         0.81                  0.87   \n",
      "max                   12.00         1.00                  1.00   \n",
      "\n",
      "       Impact on Team Performance  Off-field Conduct  \n",
      "count                      500.00             500.00  \n",
      "mean                         6.52               7.57  \n",
      "std                          2.11               2.09  \n",
      "min                          0.00               0.00  \n",
      "25%                          5.00               6.00  \n",
      "50%                          6.50               8.00  \n",
      "75%                          8.00               9.00  \n",
      "max                         13.00              13.00  \n"
     ]
    }
   ],
   "source": [
    "# Perform descriptive analysis\n",
    "descriptive_stats = data.describe().round(2)\n",
    "\n",
    "# Display the descriptive statistics\n",
    "print(\"Descriptive Statistics:\\n\", descriptive_stats)"
   ]
  },
  {
   "cell_type": "markdown",
   "id": "754dbe15-27ea-4921-860e-914da41ef7f6",
   "metadata": {},
   "source": [
    "## Data Visualisation"
   ]
  },
  {
   "cell_type": "code",
   "execution_count": 45,
   "id": "0c1d8bee-d1c0-4747-84cc-0647a1321c0e",
   "metadata": {},
   "outputs": [
    {
     "data": {
      "image/png": "[encoded data removed]",
      "text/plain": [
       "<Figure size 800x600 with 1 Axes>"
      ]
     },
     "metadata": {},
     "output_type": "display_data"
    },
    {
     "data": {
      "image/png": "[encoded data removed]",
      "text/plain": [
       "<Figure size 1000x600 with 1 Axes>"
      ]
     },
     "metadata": {},
     "output_type": "display_data"
    }
   ],
   "source": [
    "# Step 1: Percentage analysis on Footedness\n",
    "footedness_counts = data['Footedness'].value_counts()\n",
    "footedness_percentage = footedness_counts / footedness_counts.sum() * 100\n",
    "\n",
    "# Create a pie chart\n",
    "plt.figure(figsize=(8, 6))\n",
    "plt.pie(footedness_percentage, labels=footedness_percentage.index, autopct='%1.1f%%', startangle=140)\n",
    "plt.title('Percentage of Players by Footedness')\n",
    "plt.axis('equal')  # Equal aspect ratio ensures that pie chart is circular.\n",
    "plt.show()\n",
    "\n",
    "# Step 2: Countplot of Footedness across Nationalities\n",
    "plt.figure(figsize=(10, 6))\n",
    "sns.countplot(data=data, x='Nationality', hue='Footedness', palette='Set2')\n",
    "plt.title('Distribution of Players\\' Footedness Across Nationalities')\n",
    "plt.xlabel('Nationality')\n",
    "plt.ylabel('Count of Players')\n",
    "plt.xticks(rotation=45)  # Rotate x labels for better readability\n",
    "plt.legend(title='Footedness')\n",
    "plt.tight_layout()  # Adjust layout to prevent clipping of tick-labels\n",
    "plt.show()"
   ]
  },
  {
   "cell_type": "markdown",
   "id": "c428dfcc-eec6-4311-8cfe-b200019a6a63",
   "metadata": {},
   "source": [
    "## Statistical Analysis"
   ]
  },
  {
   "cell_type": "code",
   "execution_count": 46,
   "id": "a7833379-6516-4430-8221-c6813f9f979b",
   "metadata": {},
   "outputs": [
    {
     "name": "stdout",
     "output_type": "stream",
     "text": [
      "The nationality with the highest average number of goals scored is Brazil with an average of 15.32 goals.\n"
     ]
    }
   ],
   "source": [
    "# Step 1: Determine which nationality strikers have the highest average number of goals scored\n",
    "average_goals_by_nationality = data.groupby('Nationality')['Goals Scored'].mean().round(2)\n",
    "highest_average_goals_nationality = average_goals_by_nationality.idxmax()\n",
    "highest_average_goals_value = average_goals_by_nationality.max()\n",
    "\n",
    "print(f\"The nationality with the highest average number of goals scored is {highest_average_goals_nationality} with an average of {highest_average_goals_value} goals.\")"
   ]
  },
  {
   "cell_type": "markdown",
   "id": "a80be3f4-09b0-4ac5-8de6-4d1619eef569",
   "metadata": {},
   "source": [
    "## Feature Engineering"
   ]
  },
  {
   "cell_type": "code",
   "execution_count": 47,
   "id": "be26f574-c7e5-40ee-aac5-f58ef1fb81fb",
   "metadata": {},
   "outputs": [
    {
     "name": "stdout",
     "output_type": "stream",
     "text": [
      "   Goals Scored  Assists  Shots on Target  Dribbling Success  \\\n",
      "0            17       10               34           0.757061   \n",
      "1            14       13               31           0.796818   \n",
      "2            18        3               25           0.666869   \n",
      "3            22        9               20           0.638776   \n",
      "4            13        6               29           0.591485   \n",
      "\n",
      "   Aerial Duels Won  Defensive Contribution  Big Game Performance  \\\n",
      "0                15                      30                     6   \n",
      "1                19                      26                     6   \n",
      "2                20                      24                     3   \n",
      "3                22                      44                     6   \n",
      "4                13                      37                     8   \n",
      "\n",
      "   Consistency  Total Contribution Score  \n",
      "0     0.820314                113.577376  \n",
      "1     0.803321                110.600139  \n",
      "2     0.766540                 94.433410  \n",
      "3     0.611798                124.250575  \n",
      "4     0.701638                107.293123  \n"
     ]
    }
   ],
   "source": [
    "# Step 1: Create Total Contribution Score\n",
    "data['Total Contribution Score'] = (\n",
    "    data['Goals Scored'] +\n",
    "    data['Assists'] +\n",
    "    data['Shots on Target'] +\n",
    "    data['Dribbling Success'] +\n",
    "    data['Aerial Duels Won'] +\n",
    "    data['Defensive Contribution'] +\n",
    "    data['Big Game Performance'] +\n",
    "    data['Consistency']\n",
    ")\n",
    "\n",
    "# Display the first few rows to verify the new feature\n",
    "print(data[['Goals Scored', 'Assists', 'Shots on Target', 'Dribbling Success', \n",
    "            'Aerial Duels Won', 'Defensive Contribution', 'Big Game Performance', \n",
    "            'Consistency', 'Total Contribution Score']].head())"
   ]
  },
  {
   "cell_type": "code",
   "execution_count": 48,
   "id": "3be1139e-77e0-4bee-b5a5-52ad596fffb4",
   "metadata": {},
   "outputs": [
    {
     "name": "stdout",
     "output_type": "stream",
     "text": [
      "   Footedness  Marital Status\n",
      "0           0               0\n",
      "1           0               1\n",
      "2           0               0\n",
      "3           1               0\n",
      "4           0               1\n"
     ]
    }
   ],
   "source": [
    "# Step 2: Encode Footedness and Marital Status\n",
    "label_encoder = LabelEncoder()\n",
    "\n",
    "# Encode Footedness\n",
    "data['Footedness'] = label_encoder.fit_transform(data['Footedness'])\n",
    "\n",
    "# Encode Marital Status\n",
    "data['Marital Status'] = label_encoder.fit_transform(data['Marital Status'])\n",
    "\n",
    "# Display the first few rows to verify the encoding\n",
    "print(data[['Footedness', 'Marital Status']].head())"
   ]
  },
  {
   "cell_type": "code",
   "execution_count": 49,
   "id": "b41e96b2-54b2-40d1-b040-c4a4e6289bbc",
   "metadata": {},
   "outputs": [
    {
     "name": "stdout",
     "output_type": "stream",
     "text": [
      "   Striker_ID Nationality  Footedness  Marital Status  Goals Scored  Assists  \\\n",
      "0         1.0       Spain           0               0            17       10   \n",
      "1         2.0      France           0               1            14       13   \n",
      "2         3.0     Germany           0               0            18        3   \n",
      "3         4.0      France           1               0            22        9   \n",
      "4         5.0      France           0               1            13        6   \n",
      "\n",
      "   Shots on Target  Shot Accuracy  Conversion Rate  Dribbling Success  ...  \\\n",
      "0               34       0.677836         0.166241           0.757061  ...   \n",
      "1               31       0.544881         0.192774           0.796818  ...   \n",
      "2               25       0.518180         0.160379           0.666869  ...   \n",
      "3               20       0.599663         0.184602           0.638776  ...   \n",
      "4               29       0.582982         0.105319           0.591485  ...   \n",
      "\n",
      "   Big Game Performance  Consistency  Penalty Success Rate  \\\n",
      "0                     6     0.820314              0.922727   \n",
      "1                     6     0.803321              0.678984   \n",
      "2                     3     0.766540              0.843858   \n",
      "3                     6     0.611798              0.662997   \n",
      "4                     8     0.701638              0.906538   \n",
      "\n",
      "   Impact on Team Performance  Off-field Conduct  Total Contribution Score  \\\n",
      "0                           8                 11                113.577376   \n",
      "1                           3                  8                110.600139   \n",
      "2                           8                  9                 94.433410   \n",
      "3                           6                  8                124.250575   \n",
      "4                           8                  6                107.293123   \n",
      "\n",
      "   Nationality_England  Nationality_France  Nationality_Germany  \\\n",
      "0                False               False                False   \n",
      "1                False                True                False   \n",
      "2                False               False                 True   \n",
      "3                False                True                False   \n",
      "4                False                True                False   \n",
      "\n",
      "   Nationality_Spain  \n",
      "0               True  \n",
      "1              False  \n",
      "2              False  \n",
      "3              False  \n",
      "4              False  \n",
      "\n",
      "[5 rows x 24 columns]\n"
     ]
    }
   ],
   "source": [
    "# Step 3: Create dummy variables for Nationality\n",
    "nationality_dummies = pd.get_dummies(data['Nationality'], prefix='Nationality', drop_first=True)\n",
    "\n",
    "# Add the dummy variables to the original DataFrame\n",
    "data = pd.concat([data, nationality_dummies], axis=1)\n",
    "\n",
    "# Optionally, drop the original Nationality column if no longer needed\n",
    "#data.drop('Nationality', axis=1, inplace=True)\n",
    "\n",
    "# Display the first few rows to verify the new dummy variables\n",
    "print(data.head())"
   ]
  },
  {
   "cell_type": "markdown",
   "id": "bf119066-ce94-4a0e-af63-f66031dd16c9",
   "metadata": {},
   "source": [
    "## Clustering Analysis"
   ]
  },
  {
   "cell_type": "code",
   "execution_count": 50,
   "id": "7f1ffaee-e652-42e8-921e-4483afb64dcd",
   "metadata": {},
   "outputs": [
    {
     "name": "stdout",
     "output_type": "stream",
     "text": [
      "Footedness                      int64\n",
      "Marital Status                  int64\n",
      "Goals Scored                    int64\n",
      "Assists                         int64\n",
      "Shots on Target                 int64\n",
      "Shot Accuracy                 float64\n",
      "Conversion Rate               float64\n",
      "Dribbling Success             float64\n",
      "Movement off the Ball           int64\n",
      "Hold-up Play                    int64\n",
      "Aerial Duels Won                int64\n",
      "Defensive Contribution          int64\n",
      "Big Game Performance            int64\n",
      "Consistency                   float64\n",
      "Penalty Success Rate          float64\n",
      "Impact on Team Performance      int64\n",
      "Off-field Conduct               int64\n",
      "Total Contribution Score      float64\n",
      "Nationality_England              bool\n",
      "Nationality_France               bool\n",
      "Nationality_Germany              bool\n",
      "Nationality_Spain                bool\n",
      "Nationality_England              bool\n",
      "Nationality_France               bool\n",
      "Nationality_Germany              bool\n",
      "Nationality_Spain                bool\n",
      "dtype: object\n"
     ]
    }
   ],
   "source": [
    "# Step 1: Select features by dropping the Striker_ID\n",
    "features = data.drop(columns=['Striker_ID'])\n",
    "\n",
    "# Step 2: Encode categorical variables (if not already done)\n",
    "# Example: Encoding 'Nationality' if it's still in the features\n",
    "if 'Nationality' in features.columns:\n",
    "    features = pd.get_dummies(features, columns=['Nationality'], drop_first=True)\n",
    "    \n",
    "# Step 2: Calculate the Within-Cluster-Sum-of-Squares (WCSS)\n",
    "#wcss = []\n",
    "#for i in range(1, 11):  # Testing for 1 to 10 clusters\n",
    "#    kmeans = KMeans(n_clusters=i, random_state=42)\n",
    "#    kmeans.fit(features)\n",
    "#    wcss.append(kmeans.inertia_)  # WCSS is stored in inertia_\n",
    "# Step 3: Check the data types of the features\n",
    "print(features.dtypes)\n",
    "\n",
    "# Step 4: Calculate the Within-Cluster-Sum-of-Squares (WCSS)\n",
    "wcss = []\n",
    "for i in range(1, 11):  # Testing for 1 to 10 clusters\n",
    "    kmeans = KMeans(n_clusters=i, random_state=42)\n",
    "    kmeans.fit(features)\n",
    "    wcss.append(kmeans.inertia_)  # WCSS is stored in inertia_"
   ]
  },
  {
   "cell_type": "code",
   "execution_count": 51,
   "id": "3c8edd65-6915-4a78-8902-0e488c893af7",
   "metadata": {},
   "outputs": [
    {
     "data": {
      "image/png": "[encoded data removed]",
      "text/plain": [
       "<Figure size 1000x600 with 1 Axes>"
      ]
     },
     "metadata": {},
     "output_type": "display_data"
    }
   ],
   "source": [
    "# Step 3: Visualize the elbow chart\n",
    "plt.figure(figsize=(10, 6))\n",
    "plt.plot(range(1, 11), wcss, marker='o')\n",
    "plt.title('Elbow Method for Optimal k')\n",
    "plt.xlabel('Number of clusters')\n",
    "plt.ylabel('WCSS')\n",
    "plt.xticks(range(1, 11))\n",
    "plt.grid()\n",
    "plt.axvline(x=2, color='r', linestyle='--')  # Indicate the optimal number of clusters\n",
    "plt.show()"
   ]
  },
  {
   "cell_type": "code",
   "execution_count": 52,
   "id": "20db3a44-8ee4-4e94-957a-32f4b1fecc60",
   "metadata": {},
   "outputs": [],
   "source": [
    "# Step 4: Build the KMeans cluster with the optimal number of clusters (2)\n",
    "optimal_clusters = 2\n",
    "kmeans = KMeans(n_clusters=optimal_clusters, random_state=42)\n",
    "data['Clusters'] = kmeans.fit_predict(features)"
   ]
  },
  {
   "cell_type": "code",
   "execution_count": 53,
   "id": "d5341f23-df56-41d7-ac9c-d9f8891da376",
   "metadata": {},
   "outputs": [
    {
     "name": "stdout",
     "output_type": "stream",
     "text": [
      "Average Total Contribution Score by Cluster:\n",
      " Clusters\n",
      "0    101.85\n",
      "1    123.35\n",
      "Name: Total Contribution Score, dtype: float64\n"
     ]
    }
   ],
   "source": [
    "# Step 5: Calculate the average total contribution score by cluster\n",
    "average_contribution_by_cluster = data.groupby('Clusters')['Total Contribution Score'].mean().round(2)\n",
    "print(\"Average Total Contribution Score by Cluster:\\n\", average_contribution_by_cluster)"
   ]
  },
  {
   "cell_type": "code",
   "execution_count": 54,
   "id": "34a95cb0-7095-472e-8eb0-c54796569c40",
   "metadata": {},
   "outputs": [
    {
     "name": "stdout",
     "output_type": "stream",
     "text": [
      "   Total Contribution Score    Strikers types\n",
      "0                113.577376     Best strikers\n",
      "1                110.600139     Best strikers\n",
      "2                 94.433410     Best strikers\n",
      "3                124.250575  Regular strikers\n",
      "4                107.293123     Best strikers\n"
     ]
    }
   ],
   "source": [
    "# Step 6: Assign the tag 'Best strikers' for 0 and 'Regular strikers' for 1\n",
    "data['Strikers types'] = data['Clusters'].map({0: 'Best strikers', 1: 'Regular strikers'})\n",
    "\n",
    "# Drop the Clusters variable\n",
    "data.drop(columns=['Clusters'], inplace=True)\n",
    "\n",
    "# Display the first few rows to verify the new column\n",
    "print(data[['Total Contribution Score', 'Strikers types']].head())"
   ]
  },
  {
   "cell_type": "code",
   "execution_count": 55,
   "id": "7f44fcd5-a8cf-49f0-ad6f-e753e2dbc092",
   "metadata": {},
   "outputs": [
    {
     "name": "stdout",
     "output_type": "stream",
     "text": [
      "   Total Contribution Score  Strikers types\n",
      "0                113.577376               1\n",
      "1                110.600139               1\n",
      "2                 94.433410               1\n",
      "3                124.250575               0\n",
      "4                107.293123               1\n"
     ]
    }
   ],
   "source": [
    "# Step 7: Use feature mapping to map the new feature Strikers types\n",
    "data['Strikers types'] = data['Strikers types'].map({'Best strikers': 1, 'Regular strikers': 0})\n",
    "\n",
    "# Display the first few rows to verify the mapping\n",
    "print(data[['Total Contribution Score', 'Strikers types']].head())"
   ]
  },
  {
   "cell_type": "markdown",
   "id": "f9ad718d-0440-4f99-8daa-5db823df8590",
   "metadata": {},
   "source": [
    "## Machine Learning Model"
   ]
  },
  {
   "cell_type": "code",
   "execution_count": 56,
   "id": "50c4128b-caee-4cc6-b85f-6fad1f1c829a",
   "metadata": {},
   "outputs": [
    {
     "name": "stdout",
     "output_type": "stream",
     "text": [
      "  Nationality  Footedness  Marital Status  Goals Scored  Assists  \\\n",
      "0       Spain           0               0            17       10   \n",
      "1      France           0               1            14       13   \n",
      "2     Germany           0               0            18        3   \n",
      "3      France           1               0            22        9   \n",
      "4      France           0               1            13        6   \n",
      "\n",
      "   Shots on Target  Shot Accuracy  Conversion Rate  Dribbling Success  \\\n",
      "0               34       0.677836         0.166241           0.757061   \n",
      "1               31       0.544881         0.192774           0.796818   \n",
      "2               25       0.518180         0.160379           0.666869   \n",
      "3               20       0.599663         0.184602           0.638776   \n",
      "4               29       0.582982         0.105319           0.591485   \n",
      "\n",
      "   Movement off the Ball  ...  Big Game Performance  Consistency  \\\n",
      "0                     50  ...                     6     0.820314   \n",
      "1                     61  ...                     6     0.803321   \n",
      "2                     65  ...                     3     0.766540   \n",
      "3                     88  ...                     6     0.611798   \n",
      "4                     75  ...                     8     0.701638   \n",
      "\n",
      "   Penalty Success Rate  Impact on Team Performance  Off-field Conduct  \\\n",
      "0              0.922727                           8                 11   \n",
      "1              0.678984                           3                  8   \n",
      "2              0.843858                           8                  9   \n",
      "3              0.662997                           6                  8   \n",
      "4              0.906538                           8                  6   \n",
      "\n",
      "   Total Contribution Score  Nationality_England  Nationality_France  \\\n",
      "0                113.577376                False               False   \n",
      "1                110.600139                False                True   \n",
      "2                 94.433410                False               False   \n",
      "3                124.250575                False                True   \n",
      "4                107.293123                False                True   \n",
      "\n",
      "   Nationality_Germany  Nationality_Spain  \n",
      "0                False               True  \n",
      "1                False              False  \n",
      "2                 True              False  \n",
      "3                False              False  \n",
      "4                False              False  \n",
      "\n",
      "[5 rows x 23 columns]\n",
      "0    1\n",
      "1    1\n",
      "2    1\n",
      "3    0\n",
      "4    1\n",
      "Name: Strikers types, dtype: int64\n"
     ]
    }
   ],
   "source": [
    "# Step 1: Select features (X) and target variable (y)\n",
    "X = data.drop(columns=['Striker_ID', 'Strikers types'], errors='ignore')  # Drop unnecessary columns\n",
    "y = data['Strikers types']  # Target variable\n",
    "\n",
    "# Display the first few rows of X and y\n",
    "print(X.head())\n",
    "print(y.head())"
   ]
  },
  {
   "cell_type": "code",
   "execution_count": 57,
   "id": "60eb6246-dd6e-46a7-8f77-557609d861cb",
   "metadata": {},
   "outputs": [],
   "source": [
    "# Step 2: Identify categorical columns\n",
    "categorical_cols = X.select_dtypes(include=['object']).columns.tolist()"
   ]
  },
  {
   "cell_type": "code",
   "execution_count": 58,
   "id": "3e4ed970-cdde-41c2-a3da-3a3dc8cc2328",
   "metadata": {},
   "outputs": [],
   "source": [
    "# Step 3: Create a ColumnTransformer to handle both numerical and categorical data\n",
    "preprocessor = ColumnTransformer(\n",
    "    transformers=[\n",
    "        ('num', StandardScaler(), X.select_dtypes(exclude=['object']).columns),  # Scale numerical features\n",
    "        ('cat', OneHotEncoder(), categorical_cols)  # One-hot encode categorical features\n",
    "    ])"
   ]
  },
  {
   "cell_type": "code",
   "execution_count": 59,
   "id": "b5770301-edb0-487f-8953-40c073a06b27",
   "metadata": {},
   "outputs": [],
   "source": [
    "# Step 4: Create a pipeline that first transforms the data and then fits the model\n",
    "model = Pipeline(steps=[\n",
    "    ('preprocessor', preprocessor),\n",
    "    ('classifier', LogisticRegression(random_state=42))\n",
    "])"
   ]
  },
  {
   "cell_type": "code",
   "execution_count": 60,
   "id": "348858aa-ed05-4559-a34d-bb4984752687",
   "metadata": {},
   "outputs": [
    {
     "name": "stdout",
     "output_type": "stream",
     "text": [
      "Accuracy of the model: 96.00%\n"
     ]
    }
   ],
   "source": [
    "# Step 5: Split the data into train and test sets (80% train, 20% test)\n",
    "X_train, X_test, y_train, y_test = train_test_split(X, y, test_size=0.2, random_state=42)\n",
    "\n",
    "# Step 6: Train the model\n",
    "model.fit(X_train, y_train)\n",
    "\n",
    "# Step 7: Make predictions\n",
    "y_pred = model.predict(X_test)\n",
    "\n",
    "# Calculate accuracy\n",
    "accuracy = accuracy_score(y_test, y_pred)\n",
    "print(f\"Accuracy of the model: {accuracy * 100:.2f}%\")"
   ]
  },
  {
   "cell_type": "markdown",
   "id": "293cd5b1-dd22-448d-8eac-e20b8dbd9871",
   "metadata": {},
   "source": [
    "## Conclusion\n",
    "Through a comprehensive analysis of the dataset, we have gained valuable insights into the characteristics and performance metrics of football strikers. Our analysis revealed that the distribution of players' footedness is relatively balanced, with 46.6% left-footed and 53.4% right-footed players. Notably, players from England exhibited the highest count of right-footed strikers, while France and Brazil had similar counts of left-footed players.\n",
    "\n",
    "In terms of goal-scoring performance, Brazil emerged as the nationality with the highest average number of goals scored, averaging 15.32 goals per player. This highlights Brazil's historical prowess in producing prolific strikers.\n",
    "\n",
    "Our clustering analysis identified two optimal clusters, categorizing strikers into 'Best strikers' and 'Regular strikers' based on their Total Contribution Scores. The analysis revealed that the 'Best strikers' had an average score of 113.58, while 'Regular strikers' averaged 124.25, indicating a nuanced understanding of striker performance.\n",
    "\n",
    "Furthermore, our machine learning model achieved an impressive accuracy of 96.00% using a pipeline approach on categorical data, demonstrating the effectiveness of our classification framework. This model not only segments strikers based on their attributes but also predicts their performance type, providing a robust tool for analysis.\n",
    "\n",
    "This project serves as a valuable resource for football professionals and enthusiasts alike, aiding in talent identification, team selection, and strategic planning. By leveraging data-driven insights, stakeholders can make informed decisions to enhance team performance and optimize player recruitment strategies."
   ]
  },
  {
   "cell_type": "markdown",
   "id": "d7b8801e-3f2c-4ae8-b7be-5c8c0d2a44ac",
   "metadata": {},
   "source": [
    "Feel free to adjust any part of the conclusion to better fit your style or specific project details!"
   ]
  }
 ],
 "metadata": {
  "kernelspec": {
   "display_name": "Python 3 (ipykernel)",
   "language": "python",
   "name": "python3"
  },
  "language_info": {
   "codemirror_mode": {
    "name": "ipython",
    "version": 3
   },
   "file_extension": ".py",
   "mimetype": "text/x-python",
   "name": "python",
   "nbconvert_exporter": "python",
   "pygments_lexer": "ipython3",
   "version": "3.12.5"
  }
 },
 "nbformat": 4,
 "nbformat_minor": 5
}
